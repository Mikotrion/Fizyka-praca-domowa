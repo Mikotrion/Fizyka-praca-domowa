{
 "cells": [
  {
   "cell_type": "code",
   "execution_count": 511,
   "metadata": {},
   "outputs": [],
   "source": [
    "from sympy import symbols, Function, diff, sqrt, exp, pi, integrate, dsolve, oo, Piecewise\n",
    "import numpy as np\n",
    "import sympy as sp\n",
    "from sympy.utilities import lambdify\n",
    "\n",
    "sp.init_printing()\n",
    "\n",
    "# Definicja zmiennych\n",
    "t = sp.Symbol('t', real = True, positive = True)\n",
    "m = sp.Symbol('m', real = True, positive = True)\n",
    "k = sp.Symbol('k', real = True, positive = True)\n",
    "a = sp.Symbol('a', real = True)\n",
    "h_bar = sp.Symbol('hbar', real = True, positive = True)\n",
    "x = sp.Symbol('x', real = True)\n",
    "n = sp.Symbol('n', integer = True, nonzero = True)\n",
    "psi = sp.Function('psi', real = True)"
   ]
  },
  {
   "cell_type": "code",
   "execution_count": 512,
   "metadata": {},
   "outputs": [
    {
     "data": {
      "text/latex": [
       "$\\displaystyle \\begin{cases} 0 & \\text{for}\\: a \\geq x \\wedge x \\geq 0 \\\\\\infty & \\text{otherwise} \\end{cases}$"
      ],
      "text/plain": [
       "⎧0  for a ≥ x ∧ x ≥ 0\n",
       "⎨                    \n",
       "⎩∞      otherwise    "
      ]
     },
     "execution_count": 512,
     "metadata": {},
     "output_type": "execute_result"
    }
   ],
   "source": [
    "# Potencjał studni potencjału\n",
    "V = Piecewise((0, (0 <= x) & (x <= a)), (oo, True))\n",
    "V "
   ]
  },
  {
   "cell_type": "code",
   "execution_count": 513,
   "metadata": {},
   "outputs": [
    {
     "data": {
      "image/png": "[encoded data removed]",
      "text/latex": [
       "$\\displaystyle \\frac{d^{2}}{d x^{2}} \\psi{\\left(x \\right)} = - k^{2} \\psi{\\left(x \\right)}$"
      ],
      "text/plain": [
       "  2                 \n",
       " d            2     \n",
       "───(ψ(x)) = -k ⋅ψ(x)\n",
       "  2                 \n",
       "dx                  "
      ]
     },
     "execution_count": 513,
     "metadata": {},
     "output_type": "execute_result"
    }
   ],
   "source": [
    "eq = sp.Eq(psi(x).diff(x, x), -k**2 * psi(x))\n",
    "eq"
   ]
  },
  {
   "cell_type": "code",
   "execution_count": 514,
   "metadata": {},
   "outputs": [
    {
     "data": {
      "image/png": "[encoded data removed]",
      "text/latex": [
       "$\\displaystyle \\psi{\\left(x \\right)} = C_{1} \\sin{\\left(k x \\right)} + C_{2} \\cos{\\left(k x \\right)}$"
      ],
      "text/plain": [
       "ψ(x) = C₁⋅sin(k⋅x) + C₂⋅cos(k⋅x)"
      ]
     },
     "execution_count": 514,
     "metadata": {},
     "output_type": "execute_result"
    }
   ],
   "source": [
    "sp.dsolve(eq, psi(x))"
   ]
  },
  {
   "cell_type": "code",
   "execution_count": 515,
   "metadata": {},
   "outputs": [
    {
     "data": {
      "image/png": "[encoded data removed]",
      "text/latex": [
       "$\\displaystyle \\psi{\\left(x \\right)} = 0$"
      ],
      "text/plain": [
       "ψ(x) = 0"
      ]
     },
     "execution_count": 515,
     "metadata": {},
     "output_type": "execute_result"
    }
   ],
   "source": [
    "sp.dsolve(eq, psi(x), ics={psi(0): 0, psi(a): 0})"
   ]
  },
  {
   "cell_type": "code",
   "execution_count": 516,
   "metadata": {},
   "outputs": [],
   "source": [
    "sol = sp.dsolve(eq, psi(x), ics={psi(0):0})\n"
   ]
  },
  {
   "cell_type": "code",
   "execution_count": 517,
   "metadata": {},
   "outputs": [
    {
     "data": {
      "image/png": "[encoded data removed]",
      "text/latex": [
       "$\\displaystyle \\psi{\\left(x \\right)} = C_{1} \\sin{\\left(\\frac{\\pi n x}{a} \\right)}$"
      ],
      "text/plain": [
       "             ⎛π⋅n⋅x⎞\n",
       "ψ(x) = C₁⋅sin⎜─────⎟\n",
       "             ⎝  a  ⎠"
      ]
     },
     "execution_count": 517,
     "metadata": {},
     "output_type": "execute_result"
    }
   ],
   "source": [
    "sol = sol.subs(k, n* sp.pi / a)\n",
    "sol"
   ]
  },
  {
   "cell_type": "code",
   "execution_count": 518,
   "metadata": {},
   "outputs": [
    {
     "data": {
      "image/png": "[encoded data removed]",
      "text/latex": [
       "$\\displaystyle \\left( \\psi{\\left(x \\right)}, \\  C_{1} \\sin{\\left(\\frac{\\pi n x}{a} \\right)}\\right)$"
      ],
      "text/plain": [
       "⎛            ⎛π⋅n⋅x⎞⎞\n",
       "⎜ψ(x), C₁⋅sin⎜─────⎟⎟\n",
       "⎝            ⎝  a  ⎠⎠"
      ]
     },
     "execution_count": 518,
     "metadata": {},
     "output_type": "execute_result"
    }
   ],
   "source": [
    "sol.lhs, sol.rhs"
   ]
  },
  {
   "cell_type": "code",
   "execution_count": 519,
   "metadata": {},
   "outputs": [
    {
     "data": {
      "image/png": "[encoded data removed]",
      "text/latex": [
       "$\\displaystyle \\left|{C_{1} \\sin{\\left(\\frac{\\pi n x}{a} \\right)}}\\right|^{2}$"
      ],
      "text/plain": [
       "               2\n",
       "│      ⎛π⋅n⋅x⎞│ \n",
       "│C₁⋅sin⎜─────⎟│ \n",
       "│      ⎝  a  ⎠│ "
      ]
     },
     "execution_count": 519,
     "metadata": {},
     "output_type": "execute_result"
    }
   ],
   "source": [
    "sp.Abs(sol.rhs)**2"
   ]
  },
  {
   "cell_type": "code",
   "execution_count": 520,
   "metadata": {},
   "outputs": [
    {
     "data": {
      "image/png": "[encoded data removed]",
      "text/latex": [
       "$\\displaystyle \\frac{C_{1}^{2} a}{2}$"
      ],
      "text/plain": [
       "  2  \n",
       "C₁ ⋅a\n",
       "─────\n",
       "  2  "
      ]
     },
     "execution_count": 520,
     "metadata": {},
     "output_type": "execute_result"
    }
   ],
   "source": [
    "sp.integrate((sol.rhs)**2, (x, 0, a))"
   ]
  },
  {
   "cell_type": "code",
   "execution_count": 521,
   "metadata": {},
   "outputs": [
    {
     "data": {
      "image/png": "[encoded data removed]",
      "text/latex": [
       "$\\displaystyle \\psi{\\left(x \\right)} = \\sqrt{2} \\sqrt{\\frac{1}{a}} \\sin{\\left(\\frac{\\pi n x}{a} \\right)}$"
      ],
      "text/plain": [
       "              ___           \n",
       "             ╱ 1     ⎛π⋅n⋅x⎞\n",
       "ψ(x) = √2⋅  ╱  ─ ⋅sin⎜─────⎟\n",
       "          ╲╱   a     ⎝  a  ⎠"
      ]
     },
     "execution_count": 521,
     "metadata": {},
     "output_type": "execute_result"
    }
   ],
   "source": [
    "sol = sol.subs(sp.Symbol('C1'), sp.sqrt(2/a))\n",
    "sol"
   ]
  },
  {
   "cell_type": "code",
   "execution_count": 522,
   "metadata": {},
   "outputs": [
    {
     "data": {
      "image/png": "[encoded data removed]",
      "text/latex": [
       "$\\displaystyle \\frac{\\pi^{2} \\hbar^{2} n^{2}}{2 a^{2} m}$"
      ],
      "text/plain": [
       " 2  2  2\n",
       "π ⋅h̅ ⋅n \n",
       "────────\n",
       "    2   \n",
       " 2⋅a ⋅m "
      ]
     },
     "execution_count": 522,
     "metadata": {},
     "output_type": "execute_result"
    }
   ],
   "source": [
    "En = n**2 * sp.pi**2 * h**2 / (2*m*a**2)\n",
    "En"
   ]
  },
  {
   "cell_type": "code",
   "execution_count": 523,
   "metadata": {},
   "outputs": [
    {
     "data": {
      "image/png": "[encoded data removed]",
      "text/latex": [
       "$\\displaystyle e^{- \\frac{i \\pi^{2} \\hbar n^{2} t}{2 a^{2} m}}$"
      ],
      "text/plain": [
       "     2    2   \n",
       " -ⅈ⋅π ⋅h̅⋅n ⋅t \n",
       " ─────────────\n",
       "        2     \n",
       "     2⋅a ⋅m   \n",
       "ℯ             "
      ]
     },
     "execution_count": 523,
     "metadata": {},
     "output_type": "execute_result"
    }
   ],
   "source": [
    "phi = sp.exp(-sp.I *En*t/h)\n",
    "phi"
   ]
  },
  {
   "cell_type": "code",
   "execution_count": 524,
   "metadata": {},
   "outputs": [
    {
     "data": {
      "image/png": "[encoded data removed]",
      "text/latex": [
       "$\\displaystyle \\sqrt{2} \\sqrt{\\frac{1}{a}} e^{- \\frac{i \\pi^{2} \\hbar n^{2} t}{2 a^{2} m}} \\sin{\\left(\\frac{\\pi n x}{a} \\right)}$"
      ],
      "text/plain": [
       "                2    2              \n",
       "            -ⅈ⋅π ⋅h̅⋅n ⋅t            \n",
       "            ─────────────           \n",
       "       ___         2                \n",
       "      ╱ 1       2⋅a ⋅m       ⎛π⋅n⋅x⎞\n",
       "√2⋅  ╱  ─ ⋅ℯ             ⋅sin⎜─────⎟\n",
       "   ╲╱   a                    ⎝  a  ⎠"
      ]
     },
     "execution_count": 524,
     "metadata": {},
     "output_type": "execute_result"
    }
   ],
   "source": [
    "Psi = sol.rhs * phi\n",
    "Psi"
   ]
  },
  {
   "cell_type": "code",
   "execution_count": 525,
   "metadata": {},
   "outputs": [
    {
     "data": {
      "image/png": "[encoded data removed]",
      "text/latex": [
       "$\\displaystyle \\frac{a^{2} \\sqrt{\\frac{1}{a}} \\overline{\\sqrt{\\frac{1}{a}}}}{2 \\pi^{2} n^{2}} + 2 \\left(\\frac{a^{2}}{4} - \\frac{a^{2}}{4 \\pi^{2} n^{2}}\\right) \\sqrt{\\frac{1}{a}} \\overline{\\sqrt{\\frac{1}{a}}}$"
      ],
      "text/plain": [
       "           _______                                   \n",
       "       ___     ___                                   \n",
       " 2    ╱ 1     ╱ 1                             _______\n",
       "a ⋅  ╱  ─ ⋅  ╱  ─      ⎛ 2       2  ⎞     ___     ___\n",
       "   ╲╱   a  ╲╱   a      ⎜a       a   ⎟    ╱ 1     ╱ 1 \n",
       "────────────────── + 2⋅⎜── - ───────⎟⋅  ╱  ─ ⋅  ╱  ─ \n",
       "        2  2           ⎜4       2  2⎟ ╲╱   a  ╲╱   a \n",
       "     2⋅π ⋅n            ⎝     4⋅π ⋅n ⎠                "
      ]
     },
     "execution_count": 525,
     "metadata": {},
     "output_type": "execute_result"
    }
   ],
   "source": [
    "x_average = integrate(sol.rhs.conjugate() * x * sol.rhs, (x, 0, a))\n",
    "x_average"
   ]
  },
  {
   "cell_type": "code",
   "execution_count": 526,
   "metadata": {},
   "outputs": [
    {
     "data": {
      "image/png": "[encoded data removed]",
      "text/latex": [
       "$\\displaystyle 0$"
      ],
      "text/plain": [
       "0"
      ]
     },
     "execution_count": 526,
     "metadata": {},
     "output_type": "execute_result"
    }
   ],
   "source": [
    "# Wartość oczekiwana pędu\n",
    "p_average = integrate(sol.rhs.conjugate() * (-sp.I * h_bar * diff(sol.rhs, x)), (x, 0, a))\n",
    "p_average"
   ]
  },
  {
   "cell_type": "code",
   "execution_count": 527,
   "metadata": {},
   "outputs": [
    {
     "data": {
      "image/png": "[encoded data removed]",
      "text/latex": [
       "$\\displaystyle 2 \\left(\\frac{a^{3}}{6} - \\frac{a^{3}}{4 \\pi^{2} n^{2}}\\right) \\sqrt{\\frac{1}{a}} \\overline{\\sqrt{\\frac{1}{a}}}$"
      ],
      "text/plain": [
       "                         _______\n",
       "  ⎛ 3       3  ⎞     ___     ___\n",
       "  ⎜a       a   ⎟    ╱ 1     ╱ 1 \n",
       "2⋅⎜── - ───────⎟⋅  ╱  ─ ⋅  ╱  ─ \n",
       "  ⎜6       2  2⎟ ╲╱   a  ╲╱   a \n",
       "  ⎝     4⋅π ⋅n ⎠                "
      ]
     },
     "execution_count": 527,
     "metadata": {},
     "output_type": "execute_result"
    }
   ],
   "source": [
    "x_square_average = integrate(sol.rhs.conjugate() * x *x * sol.rhs, (x, 0, a))\n",
    "x_square_average"
   ]
  },
  {
   "cell_type": "code",
   "execution_count": 528,
   "metadata": {},
   "outputs": [
    {
     "data": {
      "image/png": "[encoded data removed]",
      "text/latex": [
       "$\\displaystyle - \\frac{\\pi^{2} \\hbar^{2} n^{2} \\overline{\\sqrt{\\frac{1}{a}}}^{2}}{2 a^{2}}$"
      ],
      "text/plain": [
       "                 2 \n",
       "          _______  \n",
       "              ___  \n",
       "  2  2  2    ╱ 1   \n",
       "-π ⋅h̅ ⋅n ⋅  ╱  ─   \n",
       "          ╲╱   a   \n",
       "───────────────────\n",
       "           2       \n",
       "        2⋅a        "
      ]
     },
     "execution_count": 528,
     "metadata": {},
     "output_type": "execute_result"
    }
   ],
   "source": [
    "p_square_average = p_squared_average = integrate(sol.rhs.conjugate() * (-sp.I * h_bar * diff(sol.rhs, x)) * sol.rhs.conjugate() * (-sp.I * h_bar * diff(sol.rhs, x)), (x, 0, a))\n",
    "p_square_average"
   ]
  },
  {
   "cell_type": "code",
   "execution_count": 529,
   "metadata": {},
   "outputs": [
    {
     "data": {
      "image/png": "[encoded data removed]",
      "text/latex": [
       "$\\displaystyle \\sqrt{2 \\left(\\frac{a^{3}}{6} - \\frac{a^{3}}{4 \\pi^{2} n^{2}}\\right) \\sqrt{\\frac{1}{a}} \\overline{\\sqrt{\\frac{1}{a}}} - \\left(\\frac{a^{2} \\sqrt{\\frac{1}{a}} \\overline{\\sqrt{\\frac{1}{a}}}}{2 \\pi^{2} n^{2}} + 2 \\left(\\frac{a^{2}}{4} - \\frac{a^{2}}{4 \\pi^{2} n^{2}}\\right) \\sqrt{\\frac{1}{a}} \\overline{\\sqrt{\\frac{1}{a}}}\\right)^{2}}$"
      ],
      "text/plain": [
       "          ____________________________________________________________________\n",
       "         ╱                                                                    \n",
       "        ╱                                     ⎛           _______             \n",
       "       ╱                                      ⎜       ___     ___             \n",
       "      ╱                             _______   ⎜ 2    ╱ 1     ╱ 1              \n",
       "     ╱       ⎛ 3       3  ⎞     ___     ___   ⎜a ⋅  ╱  ─ ⋅  ╱  ─      ⎛ 2     \n",
       "    ╱        ⎜a       a   ⎟    ╱ 1     ╱ 1    ⎜   ╲╱   a  ╲╱   a      ⎜a      \n",
       "   ╱       2⋅⎜── - ───────⎟⋅  ╱  ─ ⋅  ╱  ─  - ⎜────────────────── + 2⋅⎜── - ──\n",
       "  ╱          ⎜6       2  2⎟ ╲╱   a  ╲╱   a    ⎜        2  2           ⎜4      \n",
       "╲╱           ⎝     4⋅π ⋅n ⎠                   ⎝     2⋅π ⋅n            ⎝     4⋅\n",
       "\n",
       "_________________________\n",
       "                       2 \n",
       "                      ⎞  \n",
       "                      ⎟  \n",
       "               _______⎟  \n",
       "  2  ⎞     ___     ___⎟  \n",
       " a   ⎟    ╱ 1     ╱ 1 ⎟  \n",
       "─────⎟⋅  ╱  ─ ⋅  ╱  ─ ⎟  \n",
       " 2  2⎟ ╲╱   a  ╲╱   a ⎟  \n",
       "π ⋅n ⎠                ⎠  "
      ]
     },
     "execution_count": 529,
     "metadata": {},
     "output_type": "execute_result"
    }
   ],
   "source": [
    "x_probability = sp.sqrt(x_square_average - x_average * x_average)\n",
    "x_probability"
   ]
  },
  {
   "cell_type": "code",
   "execution_count": 530,
   "metadata": {},
   "outputs": [
    {
     "data": {
      "image/png": "[encoded data removed]",
      "text/latex": [
       "$\\displaystyle \\frac{\\sqrt{2} \\pi \\hbar \\sqrt{- \\frac{\\overline{\\sqrt{\\frac{1}{a}}}^{2}}{a^{2}}} \\left|{n}\\right|}{2}$"
      ],
      "text/plain": [
       "                 ____________    \n",
       "                ╱         2      \n",
       "               ╱   _______       \n",
       "              ╱        ___       \n",
       "             ╱        ╱ 1        \n",
       "            ╱     -  ╱  ─        \n",
       "           ╱       ╲╱   a        \n",
       "√2⋅π⋅h̅⋅   ╱       ────────── ⋅│n│\n",
       "         ╱             2         \n",
       "       ╲╱             a          \n",
       "─────────────────────────────────\n",
       "                2                "
      ]
     },
     "execution_count": 530,
     "metadata": {},
     "output_type": "execute_result"
    }
   ],
   "source": [
    "p_probability = sp.sqrt(p_square_average - p_average * p_average)\n",
    "p_probability"
   ]
  },
  {
   "cell_type": "code",
   "execution_count": 531,
   "metadata": {},
   "outputs": [
    {
     "name": "stdout",
     "output_type": "stream",
     "text": [
      "True\n"
     ]
    }
   ],
   "source": [
    "nieoznaczonosc = x_probability * p_probability\n",
    "\n",
    "# Sprawdź, czy nieoznaczoność jest mniejsza lub równa h_bar/2\n",
    "warunek = nieoznaczonosc >= sp.Rational(1, 2) * h_bar\n",
    "\n",
    "# Sprawdź, czy warunek jest spełniony\n",
    "czy_spelniony = sp.solve(warunek)\n",
    "\n",
    "# Zwróć wynik jako True lub False\n",
    "print(bool(czy_spelniony))"
   ]
  }
 ],
 "metadata": {
  "kernelspec": {
   "display_name": "Python 3",
   "language": "python",
   "name": "python3"
  },
  "language_info": {
   "codemirror_mode": {
    "name": "ipython",
    "version": 3
   },
   "file_extension": ".py",
   "mimetype": "text/x-python",
   "name": "python",
   "nbconvert_exporter": "python",
   "pygments_lexer": "ipython3",
   "version": "3.9.13"
  }
 },
 "nbformat": 4,
 "nbformat_minor": 2
}
